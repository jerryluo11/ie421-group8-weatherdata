{
 "cells": [
  {
   "cell_type": "markdown",
   "id": "e0a8df99",
   "metadata": {},
   "source": [
    "### Read Data"
   ]
  },
  {
   "cell_type": "markdown",
   "id": "6c63943c",
   "metadata": {},
   "source": [
    "https://psl.noaa.gov/data/gridded/\n",
    "\n",
    "https://www.ncei.noaa.gov/products/radar/next-generation-weather-radar "
   ]
  },
  {
   "cell_type": "code",
   "execution_count": 3,
   "id": "841e6ba7",
   "metadata": {},
   "outputs": [],
   "source": [
    "import xarray as xr"
   ]
  },
  {
   "cell_type": "code",
   "execution_count": 17,
   "id": "c09485b2",
   "metadata": {},
   "outputs": [],
   "source": [
    "ds = xr.open_dataset(\"data/air.mon.anom.error.nc\")"
   ]
  },
  {
   "cell_type": "code",
   "execution_count": 25,
   "id": "f343c414",
   "metadata": {},
   "outputs": [
    {
     "name": "stdout",
     "output_type": "stream",
     "text": [
      "<xarray.DataArray 'lat' (lat: 36)> Size: 144B\n",
      "array([ 87.5,  82.5,  77.5,  72.5,  67.5,  62.5,  57.5,  52.5,  47.5,  42.5,\n",
      "        37.5,  32.5,  27.5,  22.5,  17.5,  12.5,   7.5,   2.5,  -2.5,  -7.5,\n",
      "       -12.5, -17.5, -22.5, -27.5, -32.5, -37.5, -42.5, -47.5, -52.5, -57.5,\n",
      "       -62.5, -67.5, -72.5, -77.5, -82.5, -87.5], dtype=float32)\n",
      "Coordinates:\n",
      "  * lat      (lat) float32 144B 87.5 82.5 77.5 72.5 ... -72.5 -77.5 -82.5 -87.5\n",
      "Attributes:\n",
      "    long_name:           Latitude\n",
      "    units:               degrees_north\n",
      "    actual_range:        [ 87.5 -87.5]\n",
      "    axis:                Y\n",
      "    coordinate_defines:  point\n",
      "    standard_name:       latitude\n",
      "[ 87.5  82.5  77.5  72.5  67.5  62.5  57.5  52.5  47.5  42.5  37.5  32.5\n",
      "  27.5  22.5  17.5  12.5   7.5   2.5  -2.5  -7.5 -12.5 -17.5 -22.5 -27.5\n",
      " -32.5 -37.5 -42.5 -47.5 -52.5 -57.5 -62.5 -67.5 -72.5 -77.5 -82.5 -87.5]\n"
     ]
    }
   ],
   "source": [
    "print(ds.lat)\n",
    "print(ds.lat.values)"
   ]
  },
  {
   "cell_type": "code",
   "execution_count": null,
   "id": "0190c7c0",
   "metadata": {},
   "outputs": [
    {
     "name": "stdout",
     "output_type": "stream",
     "text": [
      "{'platform': 'Surface', 'title': 'HADCRUT4 Combined Air Temperature/SST Anomaly Error', 'Conventions': 'CF-1.0', 'Comment': 'This dataset supersedes V3', 'Source': 'Obtained from http://hadobs.metoffice.com/\\nData is a collaboration of CRU and the Hadley Center', 'history': 'Originally created at NOAA/ESRL PSD by CAS 04/2012 from files obtained at the Hadley Center\\nConverted to chunked, deflated NetCDF4 2014/09', 'References': 'https://www.psl.noaa.gov/data/gridded/data.hadcrut4.html', 'version': '4.6.0', 'dataset_title': 'HadCRUT4'}\n"
     ]
    }
   ],
   "source": []
  },
  {
   "cell_type": "code",
   "execution_count": null,
   "id": "91210c42",
   "metadata": {},
   "outputs": [],
   "source": []
  }
 ],
 "metadata": {
  "kernelspec": {
   "display_name": "venv",
   "language": "python",
   "name": "python3"
  },
  "language_info": {
   "codemirror_mode": {
    "name": "ipython",
    "version": 3
   },
   "file_extension": ".py",
   "mimetype": "text/x-python",
   "name": "python",
   "nbconvert_exporter": "python",
   "pygments_lexer": "ipython3",
   "version": "3.12.2"
  }
 },
 "nbformat": 4,
 "nbformat_minor": 5
}
